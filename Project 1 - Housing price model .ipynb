{
 "cells": [
  {
   "cell_type": "markdown",
   "metadata": {},
   "source": [
    "# Housing price model with keras , simple regression model with one neuron "
   ]
  },
  {
   "cell_type": "code",
   "execution_count": null,
   "metadata": {},
   "outputs": [],
   "source": [
    "import tensorflow as tf \n",
    "import numpy as np \n",
    "from tensorflow import keras "
   ]
  },
  {
   "cell_type": "markdown",
   "metadata": {},
   "source": [
    "#  loss = mean_squared_error"
   ]
  },
  {
   "cell_type": "code",
   "execution_count": 2,
   "metadata": {},
   "outputs": [],
   "source": [
    "def House_price_predictor(y_new):\n",
    "    xs = np.array([1.0 , 2.0, 3.0, 4.0, 5.0, 6.0] ,  dtype = float)\n",
    "    ys = np.array([1.0 , 1.5 ,2.0, 2.5 ,3.0, 3.5] ,  dtype = float ) # y = 0.5 x + 0.5\n",
    "    model = keras.Sequential([keras.layers.Dense(units = 1 , input_shape =[1])])\n",
    "    model.compile(optimizer = 'sgd', loss ='mean_squared_error' )   # tf.keras.losses.MeanSquaredError()\n",
    "    model.fit(xs , ys , epochs = 20)\n",
    "    return model.predict([y_new])[0] "
   ]
  },
  {
   "cell_type": "code",
   "execution_count": 3,
   "metadata": {},
   "outputs": [
    {
     "name": "stdout",
     "output_type": "stream",
     "text": [
      "Epoch 1/20\n",
      "1/1 [==============================] - 1s 590ms/step - loss: 72.0431\n",
      "Epoch 2/20\n",
      "1/1 [==============================] - 0s 8ms/step - loss: 33.3437\n",
      "Epoch 3/20\n",
      "1/1 [==============================] - 0s 11ms/step - loss: 15.4325\n",
      "Epoch 4/20\n",
      "1/1 [==============================] - 0s 10ms/step - loss: 7.1427\n",
      "Epoch 5/20\n",
      "1/1 [==============================] - 0s 8ms/step - loss: 3.3059\n",
      "Epoch 6/20\n",
      "1/1 [==============================] - 0s 10ms/step - loss: 1.5301\n",
      "Epoch 7/20\n",
      "1/1 [==============================] - 0s 8ms/step - loss: 0.7082\n",
      "Epoch 8/20\n",
      "1/1 [==============================] - 0s 9ms/step - loss: 0.3278\n",
      "Epoch 9/20\n",
      "1/1 [==============================] - 0s 10ms/step - loss: 0.1517\n",
      "Epoch 10/20\n",
      "1/1 [==============================] - 0s 9ms/step - loss: 0.0703\n",
      "Epoch 11/20\n",
      "1/1 [==============================] - 0s 10ms/step - loss: 0.0325\n",
      "Epoch 12/20\n",
      "1/1 [==============================] - 0s 8ms/step - loss: 0.0151\n",
      "Epoch 13/20\n",
      "1/1 [==============================] - 0s 9ms/step - loss: 0.0070\n",
      "Epoch 14/20\n",
      "1/1 [==============================] - 0s 10ms/step - loss: 0.0033\n",
      "Epoch 15/20\n",
      "1/1 [==============================] - 0s 8ms/step - loss: 0.0015\n",
      "Epoch 16/20\n",
      "1/1 [==============================] - 0s 11ms/step - loss: 7.4058e-04\n",
      "Epoch 17/20\n",
      "1/1 [==============================] - 0s 8ms/step - loss: 3.6950e-04\n",
      "Epoch 18/20\n",
      "1/1 [==============================] - 0s 9ms/step - loss: 1.9757e-04\n",
      "Epoch 19/20\n",
      "1/1 [==============================] - 0s 10ms/step - loss: 1.1780e-04\n",
      "Epoch 20/20\n",
      "1/1 [==============================] - 0s 8ms/step - loss: 8.0683e-05\n",
      "1/1 [==============================] - 0s 75ms/step\n",
      "[4.0033536]\n"
     ]
    }
   ],
   "source": [
    "print(House_price_predictor([7.0]))"
   ]
  },
  {
   "cell_type": "markdown",
   "metadata": {},
   "source": [
    "# loss = MeanAbsoluteError"
   ]
  },
  {
   "cell_type": "code",
   "execution_count": 4,
   "metadata": {},
   "outputs": [],
   "source": [
    "def House_price_predictor_2(y_new):\n",
    "    xs = np.array([1.0 , 2.0, 3.0, 4.0, 5.0, 6.0] ,  dtype = float)\n",
    "    ys = np.array([1.0 , 1.5 ,2.0, 2.5 ,3.0, 3.5] ,  dtype = float ) # y = 0.5 x + 0.5\n",
    "    model = tf.keras.Sequential([keras.layers.Dense(units = 1 , input_shape =[1])])\n",
    "    model.compile(optimizer = 'sgd', loss =tf.keras.losses.MeanAbsoluteError())   # tf.keras.losses.MeanAbsoluteError()\n",
    "    model.fit(xs , ys , epochs = 20)\n",
    "    return model.predict([y_new])[0] "
   ]
  },
  {
   "cell_type": "code",
   "execution_count": 5,
   "metadata": {},
   "outputs": [
    {
     "name": "stdout",
     "output_type": "stream",
     "text": [
      "Epoch 1/20\n",
      "1/1 [==============================] - 0s 225ms/step - loss: 0.3907\n",
      "Epoch 2/20\n",
      "1/1 [==============================] - 0s 22ms/step - loss: 0.2582\n",
      "Epoch 3/20\n",
      "1/1 [==============================] - 0s 10ms/step - loss: 0.1769\n",
      "Epoch 4/20\n",
      "1/1 [==============================] - 0s 9ms/step - loss: 0.1755\n",
      "Epoch 5/20\n",
      "1/1 [==============================] - 0s 7ms/step - loss: 0.1741\n",
      "Epoch 6/20\n",
      "1/1 [==============================] - 0s 11ms/step - loss: 0.1727\n",
      "Epoch 7/20\n",
      "1/1 [==============================] - 0s 9ms/step - loss: 0.1713\n",
      "Epoch 8/20\n",
      "1/1 [==============================] - 0s 13ms/step - loss: 0.1699\n",
      "Epoch 9/20\n",
      "1/1 [==============================] - 0s 9ms/step - loss: 0.1698\n",
      "Epoch 10/20\n",
      "1/1 [==============================] - 0s 10ms/step - loss: 0.1688\n",
      "Epoch 11/20\n",
      "1/1 [==============================] - 0s 11ms/step - loss: 0.1674\n",
      "Epoch 12/20\n",
      "1/1 [==============================] - 0s 8ms/step - loss: 0.1660\n",
      "Epoch 13/20\n",
      "1/1 [==============================] - 0s 8ms/step - loss: 0.1646\n",
      "Epoch 14/20\n",
      "1/1 [==============================] - 0s 9ms/step - loss: 0.1633\n",
      "Epoch 15/20\n",
      "1/1 [==============================] - 0s 9ms/step - loss: 0.1619\n",
      "Epoch 16/20\n",
      "1/1 [==============================] - 0s 8ms/step - loss: 0.1605\n",
      "Epoch 17/20\n",
      "1/1 [==============================] - 0s 7ms/step - loss: 0.1591\n",
      "Epoch 18/20\n",
      "1/1 [==============================] - 0s 10ms/step - loss: 0.1577\n",
      "Epoch 19/20\n",
      "1/1 [==============================] - 0s 7ms/step - loss: 0.1563\n",
      "Epoch 20/20\n",
      "1/1 [==============================] - 0s 7ms/step - loss: 0.1549\n",
      "1/1 [==============================] - 0s 46ms/step\n",
      "[4.1985393]\n"
     ]
    }
   ],
   "source": [
    "print(House_price_predictor_2([7.0]))"
   ]
  },
  {
   "cell_type": "markdown",
   "metadata": {},
   "source": [
    "# loss = losses.MeanSquaredLogarithmicError"
   ]
  },
  {
   "cell_type": "code",
   "execution_count": 2,
   "metadata": {},
   "outputs": [],
   "source": [
    "def House_price_predictor_3(y_new):\n",
    "    xs = np.array([1.0 , 2.0, 3.0, 4.0, 5.0, 6.0] ,  dtype = float)\n",
    "    ys = np.array([1.0 , 1.5 ,2.0, 2.5 ,3.0, 3.5] ,  dtype = float ) # y = 0.5 x + 0.5\n",
    "    model = tf.keras.Sequential([keras.layers.Dense(units = 1 , input_shape =[1])])\n",
    "    model.compile(optimizer = 'sgd', loss =tf.keras.losses.MeanSquaredLogarithmicError()) \n",
    "    model.fit(xs , ys , epochs = 20)\n",
    "    return model.predict([y_new])[0] "
   ]
  },
  {
   "cell_type": "code",
   "execution_count": 3,
   "metadata": {},
   "outputs": [
    {
     "name": "stdout",
     "output_type": "stream",
     "text": [
      "Epoch 1/20\n",
      "1/1 [==============================] - 1s 674ms/step - loss: 1.3801\n",
      "Epoch 2/20\n",
      "1/1 [==============================] - 0s 9ms/step - loss: 1.3801\n",
      "Epoch 3/20\n",
      "1/1 [==============================] - 0s 9ms/step - loss: 1.3801\n",
      "Epoch 4/20\n",
      "1/1 [==============================] - 0s 9ms/step - loss: 1.3801\n",
      "Epoch 5/20\n",
      "1/1 [==============================] - 0s 7ms/step - loss: 1.3801\n",
      "Epoch 6/20\n",
      "1/1 [==============================] - 0s 9ms/step - loss: 1.3801\n",
      "Epoch 7/20\n",
      "1/1 [==============================] - 0s 9ms/step - loss: 1.3801\n",
      "Epoch 8/20\n",
      "1/1 [==============================] - 0s 10ms/step - loss: 1.3801\n",
      "Epoch 9/20\n",
      "1/1 [==============================] - 0s 9ms/step - loss: 1.3801\n",
      "Epoch 10/20\n",
      "1/1 [==============================] - 0s 7ms/step - loss: 1.3801\n",
      "Epoch 11/20\n",
      "1/1 [==============================] - 0s 11ms/step - loss: 1.3801\n",
      "Epoch 12/20\n",
      "1/1 [==============================] - 0s 11ms/step - loss: 1.3801\n",
      "Epoch 13/20\n",
      "1/1 [==============================] - 0s 8ms/step - loss: 1.3801\n",
      "Epoch 14/20\n",
      "1/1 [==============================] - 0s 7ms/step - loss: 1.3801\n",
      "Epoch 15/20\n",
      "1/1 [==============================] - 0s 11ms/step - loss: 1.3801\n",
      "Epoch 16/20\n",
      "1/1 [==============================] - 0s 10ms/step - loss: 1.3801\n",
      "Epoch 17/20\n",
      "1/1 [==============================] - 0s 9ms/step - loss: 1.3801\n",
      "Epoch 18/20\n",
      "1/1 [==============================] - 0s 8ms/step - loss: 1.3801\n",
      "Epoch 19/20\n",
      "1/1 [==============================] - 0s 9ms/step - loss: 1.3801\n",
      "Epoch 20/20\n",
      "1/1 [==============================] - 0s 10ms/step - loss: 1.3801\n",
      "1/1 [==============================] - 0s 65ms/step\n",
      "[-11.640003]\n"
     ]
    }
   ],
   "source": [
    "print(House_price_predictor_3([7.0]))"
   ]
  }
 ],
 "metadata": {
  "kernelspec": {
   "display_name": "Python 3 (ipykernel)",
   "language": "python",
   "name": "python3"
  },
  "language_info": {
   "codemirror_mode": {
    "name": "ipython",
    "version": 3
   },
   "file_extension": ".py",
   "mimetype": "text/x-python",
   "name": "python",
   "nbconvert_exporter": "python",
   "pygments_lexer": "ipython3",
   "version": "3.10.6"
  },
  "varInspector": {
   "cols": {
    "lenName": 16,
    "lenType": 16,
    "lenVar": 40
   },
   "kernels_config": {
    "python": {
     "delete_cmd_postfix": "",
     "delete_cmd_prefix": "del ",
     "library": "var_list.py",
     "varRefreshCmd": "print(var_dic_list())"
    },
    "r": {
     "delete_cmd_postfix": ") ",
     "delete_cmd_prefix": "rm(",
     "library": "var_list.r",
     "varRefreshCmd": "cat(var_dic_list()) "
    }
   },
   "types_to_exclude": [
    "module",
    "function",
    "builtin_function_or_method",
    "instance",
    "_Feature"
   ],
   "window_display": false
  }
 },
 "nbformat": 4,
 "nbformat_minor": 4
}
